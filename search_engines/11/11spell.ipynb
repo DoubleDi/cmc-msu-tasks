{
 "cells": [
  {
   "cell_type": "code",
   "execution_count": 2,
   "metadata": {
    "collapsed": true
   },
   "outputs": [],
   "source": [
    "count = {'o': 1.2, 's': 1.0}\n",
    "P = {'hotel': 5.0, 'hostel':1.0}\n",
    "X = 'hodtel'\n",
    "W1 = 'hotel'\n",
    "W2 = 'hostel'"
   ]
  },
  {
   "cell_type": "code",
   "execution_count": 3,
   "metadata": {
    "collapsed": true
   },
   "outputs": [],
   "source": [
    "def sub(x,w):\n",
    "    if ((x == 'd') and (w == 's')):\n",
    "        return 7.0\n",
    "def ins(w,x):\n",
    "    if ((w == 'o') and (x == 'd')):\n",
    "        return 9.0"
   ]
  },
  {
   "cell_type": "code",
   "execution_count": 4,
   "metadata": {
    "collapsed": true
   },
   "outputs": [],
   "source": [
    "#P(X|W1)\n",
    "P1_cond = ins('o', 'd')/count['o']\n",
    "P1 = P1_cond * P['hotel']"
   ]
  },
  {
   "cell_type": "code",
   "execution_count": 5,
   "metadata": {
    "collapsed": true
   },
   "outputs": [],
   "source": [
    "#P(X|W2)\n",
    "P2_cond = sub('d', 's')/count['s']\n",
    "P2 = P2_cond * P['hostel']"
   ]
  },
  {
   "cell_type": "code",
   "execution_count": 6,
   "metadata": {},
   "outputs": [
    {
     "name": "stdout",
     "output_type": "stream",
     "text": [
      "37.5 7.0\n",
      "Правильное слово: hotel\n"
     ]
    }
   ],
   "source": [
    "print P1, P2\n",
    "if (P1/P2 > 1):\n",
    "    print 'Правильное слово: hotel' \n",
    "else:\n",
    "    print 'Правильное слово: hostel' "
   ]
  },
  {
   "cell_type": "code",
   "execution_count": 7,
   "metadata": {
    "collapsed": true
   },
   "outputs": [],
   "source": [
    "# Со сглаживанием Лапласа\n",
    "P1_cond = (ins('o', 'd') + 1)/(count['o'] + 26)\n",
    "P2_cond = (sub('d', 's') + 1)/(count['s'] + 26)"
   ]
  },
  {
   "cell_type": "code",
   "execution_count": 8,
   "metadata": {
    "collapsed": true
   },
   "outputs": [],
   "source": [
    "P1 = P1_cond * P['hotel']\n",
    "P2 = P2_cond * P['hostel']"
   ]
  },
  {
   "cell_type": "code",
   "execution_count": 9,
   "metadata": {},
   "outputs": [
    {
     "name": "stdout",
     "output_type": "stream",
     "text": [
      "Правильное слово: hotel\n"
     ]
    }
   ],
   "source": [
    "if (P1/P2 > 1):\n",
    "    print 'Правильное слово: hotel' \n",
    "else:\n",
    "    print 'Правильное слово: hostel' "
   ]
  }
 ],
 "metadata": {
  "kernelspec": {
   "display_name": "Python 2",
   "language": "python",
   "name": "python2"
  },
  "language_info": {
   "codemirror_mode": {
    "name": "ipython",
    "version": 2
   },
   "file_extension": ".py",
   "mimetype": "text/x-python",
   "name": "python",
   "nbconvert_exporter": "python",
   "pygments_lexer": "ipython2",
   "version": "2.7.13"
  }
 },
 "nbformat": 4,
 "nbformat_minor": 2
}
