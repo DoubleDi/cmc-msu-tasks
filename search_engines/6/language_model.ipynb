{
 "cells": [
  {
   "cell_type": "markdown",
   "metadata": {},
   "source": [
    "# Дорожкин Денис, 425 группа"
   ]
  },
  {
   "cell_type": "markdown",
   "metadata": {},
   "source": [
    "## Задача - языковая модель "
   ]
  },
  {
   "cell_type": "code",
   "execution_count": 36,
   "metadata": {},
   "outputs": [],
   "source": [
    "import numpy as np\n",
    "\n",
    "# Запрос\n",
    "q = [\"a\", \"b\"]\n",
    "# документы\n",
    "d1 = [\"a\", \"b\", \"c\", \"d\"]\n",
    "d2 = [\"a\", \"a\", \"a\"]\n",
    "d3 = [\"b\", \"b\", \"c\"]\n",
    "d4 = [\"a\", \"b\", \"b\", \"c\"]\n",
    "# все документы \n",
    "d = d1 + d2 + d3 + d4\n",
    "# лямбды\n",
    "lambda_1 = 0.5\n",
    "lambda_2 = 0.9"
   ]
  },
  {
   "cell_type": "markdown",
   "metadata": {},
   "source": [
    "### Вычисление вероятностей лямбда 0.5"
   ]
  },
  {
   "cell_type": "code",
   "execution_count": 34,
   "metadata": {},
   "outputs": [
    {
     "name": "stdout",
     "output_type": "stream",
     "text": [
      "документ 1: 0.0921556122449\n",
      "документ 2: 0.121173469388\n",
      "документ 3: 0.0914115646259\n",
      "документ 4: 0.130102040816\n"
     ]
    }
   ],
   "source": [
    "p_q_d1 = (float(d1.count(q[0])) / len(d1) * lambda_1 + float(d.count(q[0])) / len(d) * (1 - lambda_1)) * \\\n",
    "         (float(d1.count(q[1])) / len(d1) * lambda_1 + float(d.count(q[1])) / len(d) * (1 - lambda_1))\n",
    "p_q_d2 = (float(d2.count(q[0])) / len(d2) * lambda_1 + float(d.count(q[0])) / len(d) * (1 - lambda_1)) * \\\n",
    "         (float(d2.count(q[1])) / len(d2) * lambda_1 + float(d.count(q[1])) / len(d) * (1 - lambda_1))\n",
    "p_q_d3 = (float(d3.count(q[0])) / len(d3) * lambda_1 + float(d.count(q[0])) / len(d) * (1 - lambda_1)) * \\\n",
    "         (float(d3.count(q[1])) / len(d3) * lambda_1 + float(d.count(q[1])) / len(d) * (1 - lambda_1))\n",
    "p_q_d4 = (float(d4.count(q[0])) / len(d4) * lambda_1 + float(d.count(q[0])) / len(d) * (1 - lambda_1)) * \\\n",
    "         (float(d4.count(q[1])) / len(d4) * lambda_1 + float(d.count(q[1])) / len(d) * (1 - lambda_1))\n",
    "\n",
    "print \"документ 1:\", p_q_d1\n",
    "print \"документ 2:\", p_q_d2\n",
    "print \"документ 3:\", p_q_d3\n",
    "print \"документ 4:\", p_q_d4"
   ]
  },
  {
   "cell_type": "markdown",
   "metadata": {},
   "source": [
    "### итог: "
   ]
  },
  {
   "cell_type": "markdown",
   "metadata": {},
   "source": [
    "d4 > d2 > d1 > d3"
   ]
  },
  {
   "cell_type": "markdown",
   "metadata": {},
   "source": [
    "### Вычисление вероятностей лямбда 0.9"
   ]
  },
  {
   "cell_type": "code",
   "execution_count": 35,
   "metadata": {},
   "outputs": [
    {
     "name": "stdout",
     "output_type": "stream",
     "text": [
      "документ 1: 0.0679719387755\n",
      "документ 2: 0.0334183673469\n",
      "документ 3: 0.0227040816327\n",
      "документ 4: 0.126632653061\n"
     ]
    }
   ],
   "source": [
    "p_q_d1 = (float(d1.count(q[0])) / len(d1) * lambda_2 + float(d.count(q[0])) / len(d) * (1 - lambda_2)) * \\\n",
    "         (float(d1.count(q[1])) / len(d1) * lambda_2 + float(d.count(q[1])) / len(d) * (1 - lambda_2))\n",
    "p_q_d2 = (float(d2.count(q[0])) / len(d2) * lambda_2 + float(d.count(q[0])) / len(d) * (1 - lambda_2)) * \\\n",
    "         (float(d2.count(q[1])) / len(d2) * lambda_2 + float(d.count(q[1])) / len(d) * (1 - lambda_2))\n",
    "p_q_d3 = (float(d3.count(q[0])) / len(d3) * lambda_2 + float(d.count(q[0])) / len(d) * (1 - lambda_2)) * \\\n",
    "         (float(d3.count(q[1])) / len(d3) * lambda_2 + float(d.count(q[1])) / len(d) * (1 - lambda_2))\n",
    "p_q_d4 = (float(d4.count(q[0])) / len(d4) * lambda_2 + float(d.count(q[0])) / len(d) * (1 - lambda_2)) * \\\n",
    "         (float(d4.count(q[1])) / len(d4) * lambda_2 + float(d.count(q[1])) / len(d) * (1 - lambda_2))\n",
    "\n",
    "print \"документ 1:\", p_q_d1\n",
    "print \"документ 2:\", p_q_d2\n",
    "print \"документ 3:\", p_q_d3\n",
    "print \"документ 4:\", p_q_d4"
   ]
  },
  {
   "cell_type": "markdown",
   "metadata": {},
   "source": [
    "### итог:"
   ]
  },
  {
   "cell_type": "markdown",
   "metadata": {},
   "source": [
    " d4 > d1 > d2 > d3"
   ]
  },
  {
   "cell_type": "markdown",
   "metadata": {},
   "source": [
    "### Ответ:"
   ]
  },
  {
   "cell_type": "markdown",
   "metadata": {},
   "source": [
    "лямбда 0.5: d4 > d2 > d1 > d3\n",
    "<br>лямбда 0.9:  d4 > d1 > d2 > d3\n",
    "\n",
    "При увеличении лямбды наверх в выдаче поднимаются документы с более равномерной концентрации вхождений максимального числа элементов из запроса. В данном случае для запроса [a, b]: документ [a, b, c, d] поднялся выше [a, a, a] из-за наличия в нем обоих слов запроса."
   ]
  }
 ],
 "metadata": {
  "kernelspec": {
   "display_name": "Python 2",
   "language": "python",
   "name": "python2"
  },
  "language_info": {
   "codemirror_mode": {
    "name": "ipython",
    "version": 2
   },
   "file_extension": ".py",
   "mimetype": "text/x-python",
   "name": "python",
   "nbconvert_exporter": "python",
   "pygments_lexer": "ipython2",
   "version": "2.7.13"
  }
 },
 "nbformat": 4,
 "nbformat_minor": 2
}
