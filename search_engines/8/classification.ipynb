{
 "cells": [
  {
   "cell_type": "markdown",
   "metadata": {},
   "source": [
    "# Дорожкин Денис 425 группа"
   ]
  },
  {
   "cell_type": "markdown",
   "metadata": {},
   "source": [
    "D1 = (X1, X2, X3)  C1<br>\n",
    "D2 = (X1, X2, X4)  C1<br>\n",
    "D3 = (X4, X5, X6)  C2\n",
    "\n",
    "D4 = (X1, X4, X5)  Ci?"
   ]
  },
  {
   "cell_type": "code",
   "execution_count": 3,
   "metadata": {},
   "outputs": [
    {
     "name": "stdout",
     "output_type": "stream",
     "text": [
      "P(c1): 0.666666666667\n",
      "P(c2): 0.333333333333\n",
      "\n",
      "P(x1|c1): 0.25\n",
      "P(x1|c2): 0.111111111111\n",
      "\n",
      "P(x4|c1): 0.166666666667\n",
      "P(x4|c2): 0.222222222222\n",
      "\n",
      "P(x5|c1): 0.0833333333333\n",
      "P(x5|c2): 0.222222222222\n",
      "\n"
     ]
    }
   ],
   "source": [
    "d1 = ['x1', 'x2', 'x3']\n",
    "d2 = ['x1', 'x2', 'x4']\n",
    "d3 = ['x4', 'x5', 'x6']\n",
    "d4 = ['x1', 'x4', 'x5']\n",
    "\n",
    "docs_c1 = len([d1, d2])\n",
    "docs_c2 = len([d3])\n",
    "docs = docs_c1 + docs_c2\n",
    "\n",
    "P_c1 = float(docs_c1) / docs\n",
    "P_c2 = float(docs_c2) / docs\n",
    "print \"P(c1):\", P_c1 \n",
    "print \"P(c2):\", P_c2\n",
    "print\n",
    "\n",
    "\n",
    "d_c1 = d1 + d2\n",
    "d_c2 = d3\n",
    "\n",
    "# для c1\n",
    "n1_c1 = d_c1.count('x1') # число Х1\n",
    "n2_c1 = d_c1.count('x2') # число Х2\n",
    "n3_c1 = d_c1.count('x3') # число Х3\n",
    "n4_c1 = d_c1.count('x4') # число Х4\n",
    "n5_c1 = d_c1.count('x5') # число Х5\n",
    "n6_c1 = d_c1.count('x6') # число Х6\n",
    "# для c2\n",
    "n1_c2 = d_c2.count('x1') # число Х1\n",
    "n2_c2 = d_c2.count('x2') # число Х2\n",
    "n3_c2 = d_c2.count('x3') # число Х3\n",
    "n4_c2 = d_c2.count('x4') # число Х4\n",
    "n5_c2 = d_c2.count('x5') # число Х5\n",
    "n6_c2 = d_c2.count('x6') # число Х6\n",
    "\n",
    "# число слов в классе c1\n",
    "n_c1 = n1_c1 + n2_c1 + n3_c1 + n4_c1 + n5_c1 + n6_c1\n",
    "# число слов в классе c2\n",
    "n_c2 = n1_c2 + n2_c2 + n3_c2 + n4_c2 + n5_c2 + n6_c2\n",
    "# число уникальный слов\n",
    "diff_n = len(set(d1 + d2 + d3))\n",
    "\n",
    "P_x1_c1 = float(n1_c1 + 1) / (n_c1 + diff_n)\n",
    "print \"P(x1|c1):\", P_x1_c1\n",
    "P_x1_c2 = float(n1_c2 + 1) / (n_c2 + diff_n)\n",
    "print \"P(x1|c2):\", P_x1_c2\n",
    "print\n",
    "\n",
    "P_x4_c1 = float(n4_c1 + 1) / (n_c1 + diff_n)\n",
    "print \"P(x4|c1):\", P_x4_c1\n",
    "P_x4_c2 = float(n4_c2 + 1) / (n_c2 + diff_n)\n",
    "print \"P(x4|c2):\", P_x4_c2\n",
    "print\n",
    "\n",
    "P_x5_c1 = float(n5_c1 + 1) / (n_c1 + diff_n)\n",
    "print \"P(x5|c1):\", P_x5_c1\n",
    "P_x5_c2 = float(n5_c2 + 1) / (n_c2 + diff_n)\n",
    "print \"P(x5|c2):\", P_x5_c2\n",
    "print"
   ]
  },
  {
   "cell_type": "code",
   "execution_count": 4,
   "metadata": {},
   "outputs": [
    {
     "name": "stdout",
     "output_type": "stream",
     "text": [
      "P(d4 is c1): 0.00231481481481\n",
      "P(d4 is c2): 0.00182898948331\n",
      "d4 относится к классу c1\n"
     ]
    }
   ],
   "source": [
    "P_d4_c1 = P_c1 * P_x1_c1 * P_x4_c1 * P_x5_c1\n",
    "P_d4_c2 = P_c2 * P_x1_c2 * P_x4_c2 * P_x5_c2\n",
    "\n",
    "print \"P(d4 is c1):\", P_d4_c1\n",
    "print \"P(d4 is c2):\", P_d4_c2\n",
    "\n",
    "if P_d4_c1 > P_d4_c2:\n",
    "    print \"d4 относится к классу c1\"\n",
    "else:\n",
    "    print \"d4 относится к классу c2\""
   ]
  }
 ],
 "metadata": {
  "kernelspec": {
   "display_name": "Python 3",
   "language": "python",
   "name": "python3"
  },
  "language_info": {
   "codemirror_mode": {
    "name": "ipython",
    "version": 2
   },
   "file_extension": ".py",
   "mimetype": "text/x-python",
   "name": "python",
   "nbconvert_exporter": "python",
   "pygments_lexer": "ipython2",
   "version": "2.7.13"
  }
 },
 "nbformat": 4,
 "nbformat_minor": 2
}
