{
 "cells": [
  {
   "cell_type": "markdown",
   "metadata": {},
   "source": [
    "# Дорожкин Денис,  425 группа"
   ]
  },
  {
   "cell_type": "code",
   "execution_count": 49,
   "metadata": {
    "collapsed": true
   },
   "outputs": [],
   "source": [
    "import numpy as np\n",
    "np.set_printoptions(precision=10, suppress=True)\n",
    "d = 0.1 # коефицент телепортации\n",
    "N = 3 # число документов"
   ]
  },
  {
   "cell_type": "markdown",
   "metadata": {},
   "source": [
    "Составим матрицу переходов для даннных"
   ]
  },
  {
   "cell_type": "code",
   "execution_count": 50,
   "metadata": {},
   "outputs": [
    {
     "name": "stdout",
     "output_type": "stream",
     "text": [
      "Матрица перехода\n",
      "[[ 0.0333333333  0.4833333333  0.4833333333]\n",
      " [ 0.0333333333  0.0333333333  0.9333333333]\n",
      " [ 0.0333333333  0.9333333333  0.0333333333]]\n"
     ]
    }
   ],
   "source": [
    "P = np.array([[0, 0.5, 0.5], [0, 0, 1], [0, 1, 0]]) # Выставление 1 в местах исходящих ссылок и нормировка\n",
    "P = P * (1 - d)\n",
    "P = P + d / N\n",
    "\n",
    "print \"Матрица перехода\"\n",
    "print P"
   ]
  },
  {
   "cell_type": "code",
   "execution_count": 51,
   "metadata": {},
   "outputs": [
    {
     "name": "stdout",
     "output_type": "stream",
     "text": [
      "PR(d1) =  0.033\n",
      "PR(d2) =  0.4785\n",
      "PR(d3) =  0.4785\n"
     ]
    }
   ],
   "source": [
    "x = np.array([0.33, 0.33, 0.33])\n",
    "old_x = [0, 0, 0]\n",
    "eps = 0.0001\n",
    "\n",
    "\n",
    "# итерационный процесс сходимости\n",
    "while (abs(np.asarray(x) - old_x).any() > eps):\n",
    "    old_x = x\n",
    "    x = x.dot(P)\n",
    "\n",
    "print \"PR(d1) = \", x[0]\n",
    "print \"PR(d2) = \", x[1]\n",
    "print \"PR(d3) = \", x[2]"
   ]
  }
 ],
 "metadata": {
  "kernelspec": {
   "display_name": "Python 2",
   "language": "python",
   "name": "python2"
  },
  "language_info": {
   "codemirror_mode": {
    "name": "ipython",
    "version": 2
   },
   "file_extension": ".py",
   "mimetype": "text/x-python",
   "name": "python",
   "nbconvert_exporter": "python",
   "pygments_lexer": "ipython2",
   "version": "2.7.13"
  }
 },
 "nbformat": 4,
 "nbformat_minor": 2
}
