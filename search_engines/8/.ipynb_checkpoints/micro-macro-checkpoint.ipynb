{
 "cells": [
  {
   "cell_type": "markdown",
   "metadata": {},
   "source": [
    "# Дорожкин Денис 425 группа"
   ]
  },
  {
   "cell_type": "markdown",
   "metadata": {},
   "source": [
    "Система 1:"
   ]
  },
  {
   "cell_type": "code",
   "execution_count": 5,
   "metadata": {},
   "outputs": [
    {
     "name": "stdout",
     "output_type": "stream",
     "text": [
      "точность P: 0.5\n",
      "полнота R: 0.666666666667\n",
      "F-мера: 0.571428571429\n"
     ]
    }
   ],
   "source": [
    "e_1 = 75 # Эксперт отметил\n",
    "s_1 = 100 # Система отметила\n",
    "s_1_c = 50 # Правильно отмеченные системой\n",
    "\n",
    "P_1 = float(s_1_c) / s_1 # Точность\n",
    "R_1 = float(s_1_c) / e_1 # Полнота\n",
    "F_1 = 2 * P_1 * R_1 / (P_1 + R_1) # F-мера\n",
    "\n",
    "print \"точность P:\", P_1\n",
    "print \"полнота R:\", R_1\n",
    "print \"F-мера:\", F_1"
   ]
  },
  {
   "cell_type": "markdown",
   "metadata": {},
   "source": [
    "Система 2:"
   ]
  },
  {
   "cell_type": "code",
   "execution_count": 6,
   "metadata": {},
   "outputs": [
    {
     "name": "stdout",
     "output_type": "stream",
     "text": [
      "точность P: 0.75\n",
      "полнота R: 0.6\n",
      "F-мера: 0.666666666667\n"
     ]
    }
   ],
   "source": [
    "e_2 = 50 # Эксперт отметил\n",
    "s_2 = 40 # Система отметила\n",
    "s_2_c = 30 # Правильно отмеченные системой\n",
    "\n",
    "P_2 = float(s_2_c) / s_2 # Точность\n",
    "R_2 = float(s_2_c) / e_2 # Полнота\n",
    "F_2 = 2 * P_2 * R_2 / (P_2 + R_2) # F-мера\n",
    "\n",
    "print \"точность P:\", P_2\n",
    "print \"полнота R:\", R_2\n",
    "print \"F-мера:\", F_2"
   ]
  },
  {
   "cell_type": "markdown",
   "metadata": {},
   "source": [
    "Микро уровень:"
   ]
  },
  {
   "cell_type": "code",
   "execution_count": 11,
   "metadata": {},
   "outputs": [
    {
     "name": "stdout",
     "output_type": "stream",
     "text": [
      "точность P: 0.571428571429\n",
      "полнота R: 0.64\n",
      "F-мера: 0.603773584906\n"
     ]
    }
   ],
   "source": [
    "e = e_1 + e_2 # Эксперт отметил\n",
    "s = s_1 + s_2 # Система отметила\n",
    "s_c = s_1_c + s_2_c # Правильно отмеченные системой\n",
    "\n",
    "P = float(s_c) / s # Точность\n",
    "R = float(s_c) / e # Полнота\n",
    "F = 2 * P * R / (P + R) # F-мера\n",
    "\n",
    "print \"точность P:\", P\n",
    "print \"полнота R:\", R\n",
    "print \"F-мера:\", F"
   ]
  },
  {
   "cell_type": "markdown",
   "metadata": {},
   "source": [
    "Макро уровень:"
   ]
  },
  {
   "cell_type": "code",
   "execution_count": 12,
   "metadata": {},
   "outputs": [
    {
     "name": "stdout",
     "output_type": "stream",
     "text": [
      "точность P: 0.625\n",
      "полнота R: 0.633333333333\n",
      "F-мера: 0.619047619048\n"
     ]
    }
   ],
   "source": [
    "P = (P_1 + P_2) / 2 # Точность\n",
    "R = (R_1 + R_2) / 2 # Полнота\n",
    "F = (F_1 + F_2) / 2 # F-мера\n",
    "\n",
    "print \"точность P:\", P\n",
    "print \"полнота R:\", R\n",
    "print \"F-мера:\", F"
   ]
  }
 ],
 "metadata": {
  "kernelspec": {
   "display_name": "Python 2",
   "language": "python",
   "name": "python2"
  },
  "language_info": {
   "codemirror_mode": {
    "name": "ipython",
    "version": 2
   },
   "file_extension": ".py",
   "mimetype": "text/x-python",
   "name": "python",
   "nbconvert_exporter": "python",
   "pygments_lexer": "ipython2",
   "version": "2.7.13"
  }
 },
 "nbformat": 4,
 "nbformat_minor": 2
}
