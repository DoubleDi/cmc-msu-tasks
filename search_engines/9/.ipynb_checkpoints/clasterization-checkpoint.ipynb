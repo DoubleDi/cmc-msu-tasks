{
 "cells": [
  {
   "cell_type": "code",
   "execution_count": 7,
   "metadata": {},
   "outputs": [
    {
     "name": "stdout",
     "output_type": "stream",
     "text": [
      "Single-link method:\n",
      "[[ 0.          0.          0.          0.          0.          0.          0.\n",
      "   0.        ]\n",
      " [ 0.85859423  0.          0.          0.          0.          0.          0.\n",
      "   0.        ]\n",
      " [ 0.80957495  0.99603379  0.          0.          0.          0.          0.\n",
      "   0.        ]\n",
      " [ 0.79354018  0.99328922  0.99964029  0.          0.          0.          0.\n",
      "   0.        ]\n",
      " [ 0.8520921   0.99992123  0.9970721   0.99466262  0.          0.          0.\n",
      "   0.        ]\n",
      " [ 0.95611597  0.97111789  0.94603662  0.93700516  0.96804665  0.          0.\n",
      "   0.        ]\n",
      " [ 0.44616962  0.84187914  0.88655726  0.89864561  0.84858634  0.68879947\n",
      "   0.          0.        ]\n",
      " [ 0.76896229  0.98796442  0.99780883  0.99922437  0.98982805  0.92252294\n",
      "   0.91522289  0.        ]]\n",
      "[[ 0.          0.          0.          0.          0.          0.          0.        ]\n",
      " [ 0.80957495  0.          0.          0.          0.          0.          0.        ]\n",
      " [ 0.79354018  0.99328922  0.          0.          0.          0.          0.        ]\n",
      " [ 0.8520921   0.          0.          0.          0.          0.          0.        ]\n",
      " [ 0.95611597  0.97111789  0.94603662  0.93700516  0.          0.          0.        ]\n",
      " [ 0.44616962  0.84187914  0.88655726  0.89864561  0.68879947  0.          0.        ]\n",
      " [ 0.76896229  0.98796442  0.99780883  0.99922437  0.92252294  0.91522289\n",
      "   0.        ]]\n"
     ]
    },
    {
     "data": {
      "image/png": "[encoded data removed]",
      "text/plain": [
       "<matplotlib.figure.Figure at 0x110858cd0>"
      ]
     },
     "metadata": {},
     "output_type": "display_data"
    },
    {
     "name": "stdout",
     "output_type": "stream",
     "text": [
      "[[ 0.          0.          0.          0.          0.          0.        ]\n",
      " [ 0.80957495  0.          0.          0.          0.          0.        ]\n",
      " [ 0.79354018  0.99328922  0.          0.          0.          0.        ]\n",
      " [ 0.95611597  0.97111789  0.94603662  0.          0.          0.        ]\n",
      " [ 0.44616962  0.84187914  0.88655726  0.89864561  0.          0.        ]\n",
      " [ 0.76896229  0.          0.          0.          0.          0.        ]]\n"
     ]
    },
    {
     "data": {
      "image/png": "[encoded data removed]",
      "text/plain": [
       "<matplotlib.figure.Figure at 0x110b0f4d0>"
      ]
     },
     "metadata": {},
     "output_type": "display_data"
    },
    {
     "name": "stdout",
     "output_type": "stream",
     "text": [
      "[[ 0.          0.          0.          0.          0.        ]\n",
      " [ 0.79354018  0.          0.          0.          0.        ]\n",
      " [ 0.95611597  0.97111789  0.          0.          0.        ]\n",
      " [ 0.44616962  0.84187914  0.89864561  0.          0.        ]\n",
      " [ 0.76896229  0.          0.          0.          0.        ]]\n"
     ]
    },
    {
     "data": {
      "image/png": "[encoded data removed]",
      "text/plain": [
       "<matplotlib.figure.Figure at 0x118e17cd0>"
      ]
     },
     "metadata": {},
     "output_type": "display_data"
    },
    {
     "name": "stdout",
     "output_type": "stream",
     "text": [
      "[[ 0.          0.          0.          0.        ]\n",
      " [ 0.79354018  0.          0.          0.        ]\n",
      " [ 0.44616962  0.84187914  0.          0.        ]\n",
      " [ 0.76896229  0.          0.          0.        ]]\n"
     ]
    },
    {
     "data": {
      "image/png": "[encoded data removed]",
      "text/plain": [
       "<matplotlib.figure.Figure at 0x110a28c10>"
      ]
     },
     "metadata": {},
     "output_type": "display_data"
    },
    {
     "name": "stdout",
     "output_type": "stream",
     "text": [
      "[[ 0.          0.          0.        ]\n",
      " [ 0.44616962  0.          0.        ]\n",
      " [ 0.76896229  0.          0.        ]]\n"
     ]
    },
    {
     "data": {
      "image/png": "[encoded data removed]",
      "text/plain": [
       "<matplotlib.figure.Figure at 0x110b17e10>"
      ]
     },
     "metadata": {},
     "output_type": "display_data"
    },
    {
     "name": "stdout",
     "output_type": "stream",
     "text": [
      "[[ 0.  0.]\n",
      " [ 0.  0.]]\n"
     ]
    },
    {
     "data": {
      "image/png": "[encoded data removed]",
      "text/plain": [
       "<matplotlib.figure.Figure at 0x11026f450>"
      ]
     },
     "metadata": {},
     "output_type": "display_data"
    },
    {
     "name": "stdout",
     "output_type": "stream",
     "text": [
      "[[ 0.]]\n"
     ]
    },
    {
     "data": {
      "image/png": "[encoded data removed]",
      "text/plain": [
       "<matplotlib.figure.Figure at 0x1104c3550>"
      ]
     },
     "metadata": {},
     "output_type": "display_data"
    }
   ],
   "source": [
    "import numpy as np\n",
    "import matplotlib.pyplot as plt\n",
    "\n",
    "dots = [[0.6, 1.9], [1.8, 1.6], [2.7, 2.0], [3.0, 2.1], [3.0, 2.6], [3.1, 4.5], [3.8, 0.6], [4.2, 2.7]]\n",
    "a = np.zeros(shape=(8,8))\n",
    "\n",
    "for i in range(len(dots)):\n",
    "    for j in range(len(dots)):\n",
    "        a[i][j] = np.sum(np.asarray(dots[i]) * dots[j]) / \\\n",
    "        float(np.sqrt(np.sum(np.asarray(dots[i]) ** 2)) * np.sqrt(np.sum(np.asarray(dots[j]) ** 2)))\n",
    "        if i <= j:\n",
    "            a[i][j] = 0\n",
    "\n",
    "b = np.copy(a)\n",
    "\n",
    "clusterized = []\n",
    "xs = [0.6, 1.8, 2.7, 3.0, 3.0, 3.1, 3.8, 4.2]\n",
    "b_xs = []\n",
    "ys = [1.9, 1.6, 2.0, 2.1, 2.6, 4.5, 0.6, 2.7]\n",
    "b_ys = []\n",
    "\n",
    "print('Single-link method:')\n",
    "print(a)\n",
    "while len(a) > 1:\n",
    "    i, j = np.where(a == np.amax(a))\n",
    "    i_b, j_b = np.where(b == np.amax(a))\n",
    "    i, j, i_b, j_b = i[0], j[0], i_b[0], j_b[0]\n",
    "    \n",
    "    for t in range(len(a[i])):\n",
    "        a[i][t] = a[i][t] if a[i][t] < a[j][t] else a[j][t]\n",
    "\n",
    "    a = np.delete(a, (j), axis = 1)\n",
    "    a = np.delete(a, (j), axis = 0)\n",
    "    \n",
    "    for t in range(len(a[0])):\n",
    "        a[t][t] = 0\n",
    "    print(a)\n",
    "    \n",
    "    if not i_b in clusterized:\n",
    "        b_xs.append(xs[i_b])\n",
    "        b_ys.append(ys[i_b])\n",
    "        clusterized.append(i_b)\n",
    "    if not j_b in clusterized:\n",
    "        b_xs.append(xs[j_b])\n",
    "        b_ys.append(ys[j_b])\n",
    "        clusterized.append(j_b)\n",
    "\n",
    "    plt.plot(xs, ys, 'ro', b_xs, b_ys, 'bo')\n",
    "    plt.axis([0, 5, 0, 5])\n",
    "    plt.show()\n"
   ]
  },
  {
   "cell_type": "code",
   "execution_count": 6,
   "metadata": {},
   "outputs": [
    {
     "name": "stdout",
     "output_type": "stream",
     "text": [
      "Complete-link method:\n",
      "[[ 0.          0.          0.          0.          0.          0.          0.\n",
      "   0.        ]\n",
      " [ 0.85859423  0.          0.          0.          0.          0.          0.\n",
      "   0.        ]\n",
      " [ 0.80957495  0.99603379  0.          0.          0.          0.          0.\n",
      "   0.        ]\n",
      " [ 0.79354018  0.99328922  0.99964029  0.          0.          0.          0.\n",
      "   0.        ]\n",
      " [ 0.8520921   0.99992123  0.9970721   0.99466262  0.          0.          0.\n",
      "   0.        ]\n",
      " [ 0.95611597  0.97111789  0.94603662  0.93700516  0.96804665  0.          0.\n",
      "   0.        ]\n",
      " [ 0.44616962  0.84187914  0.88655726  0.89864561  0.84858634  0.68879947\n",
      "   0.          0.        ]\n",
      " [ 0.76896229  0.98796442  0.99780883  0.99922437  0.98982805  0.92252294\n",
      "   0.91522289  0.        ]]\n",
      "[[ 0.          0.          0.          0.          0.          0.          0.\n",
      "   0.        ]\n",
      " [ 0.85859423  0.          0.          0.          0.          0.          0.\n",
      "   0.        ]\n",
      " [ 0.80957495  0.99603379  0.          0.          0.          0.          0.\n",
      "   0.        ]\n",
      " [ 0.79354018  0.99328922  0.99964029  0.          0.          0.          0.\n",
      "   0.        ]\n",
      " [ 0.85859423  0.99992123  0.9970721   0.99466262  0.          0.          0.\n",
      "   0.        ]\n",
      " [ 0.95611597  0.97111789  0.94603662  0.93700516  0.96804665  0.          0.\n",
      "   0.        ]\n",
      " [ 0.44616962  0.84187914  0.88655726  0.89864561  0.84858634  0.68879947\n",
      "   0.          0.        ]\n",
      " [ 0.76896229  0.98796442  0.99780883  0.99922437  0.98982805  0.92252294\n",
      "   0.91522289  0.        ]]\n",
      "(4, 1)\n",
      "[[ 0.          0.          0.          0.          0.          0.          0.        ]\n",
      " [ 0.85859423  0.          0.          0.          0.          0.          0.        ]\n",
      " [ 0.80957495  0.          0.          0.          0.          0.          0.        ]\n",
      " [ 0.79354018  0.99964029  0.          0.          0.          0.          0.        ]\n",
      " [ 0.95611597  0.94603662  0.93700516  0.96804665  0.          0.          0.        ]\n",
      " [ 0.44616962  0.88655726  0.89864561  0.84858634  0.68879947  0.          0.        ]\n",
      " [ 0.76896229  0.99780883  0.99922437  0.98982805  0.92252294  0.91522289\n",
      "   0.        ]]\n"
     ]
    },
    {
     "data": {
      "image/png": "[encoded data removed]",
      "text/plain": [
       "<matplotlib.figure.Figure at 0x10df11890>"
      ]
     },
     "metadata": {},
     "output_type": "display_data"
    },
    {
     "name": "stdout",
     "output_type": "stream",
     "text": [
      "[[ 0.          0.          0.          0.          0.          0.          0.        ]\n",
      " [ 0.85859423  0.          0.          0.          0.          0.          0.        ]\n",
      " [ 0.80957495  0.          0.          0.          0.          0.          0.        ]\n",
      " [ 0.85859423  0.99964029  0.          0.          0.          0.          0.        ]\n",
      " [ 0.95611597  0.94603662  0.93700516  0.96804665  0.          0.          0.        ]\n",
      " [ 0.44616962  0.88655726  0.89864561  0.84858634  0.68879947  0.          0.        ]\n",
      " [ 0.76896229  0.99780883  0.99922437  0.98982805  0.92252294  0.91522289\n",
      "   0.        ]]\n",
      "(3, 1)\n",
      "[[ 0.          0.          0.          0.          0.          0.        ]\n",
      " [ 0.85859423  0.          0.          0.          0.          0.        ]\n",
      " [ 0.80957495  0.          0.          0.          0.          0.        ]\n",
      " [ 0.95611597  0.93700516  0.96804665  0.          0.          0.        ]\n",
      " [ 0.44616962  0.89864561  0.84858634  0.68879947  0.          0.        ]\n",
      " [ 0.76896229  0.99922437  0.98982805  0.92252294  0.91522289  0.        ]]\n"
     ]
    },
    {
     "data": {
      "image/png": "[encoded data removed]",
      "text/plain": [
       "<matplotlib.figure.Figure at 0x10df48e90>"
      ]
     },
     "metadata": {},
     "output_type": "display_data"
    },
    {
     "name": "stdout",
     "output_type": "stream",
     "text": [
      "[[ 0.          0.          0.          0.          0.          0.        ]\n",
      " [ 0.85859423  0.          0.          0.          0.          0.        ]\n",
      " [ 0.80957495  0.          0.          0.          0.          0.        ]\n",
      " [ 0.95611597  0.93700516  0.96804665  0.          0.          0.        ]\n",
      " [ 0.44616962  0.89864561  0.84858634  0.68879947  0.          0.        ]\n",
      " [ 0.85859423  0.99922437  0.98982805  0.92252294  0.91522289  0.        ]]\n",
      "(5, 1)\n",
      "[[ 0.          0.          0.          0.          0.        ]\n",
      " [ 0.85859423  0.          0.          0.          0.        ]\n",
      " [ 0.80957495  0.          0.          0.          0.        ]\n",
      " [ 0.95611597  0.96804665  0.          0.          0.        ]\n",
      " [ 0.44616962  0.84858634  0.68879947  0.          0.        ]]\n"
     ]
    },
    {
     "data": {
      "image/png": "[encoded data removed]",
      "text/plain": [
       "<matplotlib.figure.Figure at 0x11021b310>"
      ]
     },
     "metadata": {},
     "output_type": "display_data"
    },
    {
     "name": "stdout",
     "output_type": "stream",
     "text": [
      "[[ 0.          0.          0.          0.          0.        ]\n",
      " [ 0.85859423  0.          0.          0.          0.        ]\n",
      " [ 0.80957495  0.          0.          0.          0.        ]\n",
      " [ 0.95611597  0.96804665  0.          0.          0.        ]\n",
      " [ 0.44616962  0.84858634  0.68879947  0.          0.        ]]\n",
      "(3, 1)\n",
      "[[ 0.          0.          0.          0.        ]\n",
      " [ 0.85859423  0.          0.          0.        ]\n",
      " [ 0.80957495  0.          0.          0.        ]\n",
      " [ 0.44616962  0.68879947  0.          0.        ]]\n"
     ]
    },
    {
     "data": {
      "image/png": "[encoded data removed]",
      "text/plain": [
       "<matplotlib.figure.Figure at 0x118e50550>"
      ]
     },
     "metadata": {},
     "output_type": "display_data"
    },
    {
     "name": "stdout",
     "output_type": "stream",
     "text": [
      "[[ 0.          0.          0.          0.        ]\n",
      " [ 0.85859423  0.          0.          0.        ]\n",
      " [ 0.80957495  0.          0.          0.        ]\n",
      " [ 0.44616962  0.68879947  0.          0.        ]]\n",
      "(1, 0)\n",
      "[[ 0.          0.          0.        ]\n",
      " [ 0.          0.          0.        ]\n",
      " [ 0.68879947  0.          0.        ]]\n"
     ]
    },
    {
     "data": {
      "image/png": "[encoded data removed]",
      "text/plain": [
       "<matplotlib.figure.Figure at 0x1109b8150>"
      ]
     },
     "metadata": {},
     "output_type": "display_data"
    },
    {
     "name": "stdout",
     "output_type": "stream",
     "text": [
      "[[ 0.          0.          0.        ]\n",
      " [ 0.          0.          0.        ]\n",
      " [ 0.68879947  0.          0.        ]]\n",
      "(2, 0)\n",
      "[[ 0.  0.]\n",
      " [ 0.  0.]]\n"
     ]
    },
    {
     "data": {
      "image/png": "[encoded data removed]",
      "text/plain": [
       "<matplotlib.figure.Figure at 0x118e97590>"
      ]
     },
     "metadata": {},
     "output_type": "display_data"
    },
    {
     "name": "stdout",
     "output_type": "stream",
     "text": [
      "[[ 0.  0.]\n",
      " [ 0.  0.]]\n",
      "(0, 0)\n",
      "[[ 0.]]\n"
     ]
    },
    {
     "data": {
      "image/png": "[encoded data removed]",
      "text/plain": [
       "<matplotlib.figure.Figure at 0x1103c2190>"
      ]
     },
     "metadata": {},
     "output_type": "display_data"
    }
   ],
   "source": [
    "dots = [[0.6, 1.9], [1.8, 1.6], [2.7, 2.0], [3.0, 2.1], [3.0, 2.6], [3.1, 4.5], [3.8, 0.6], [4.2, 2.7]]\n",
    "a = np.zeros(shape=(8,8))\n",
    "\n",
    "for i in range(len(dots)):\n",
    "    for j in range(len(dots)):\n",
    "        a[i][j] = np.sum(np.asarray(dots[i]) * dots[j]) / \\\n",
    "        float(np.sqrt(np.sum(np.asarray(dots[i]) ** 2)) * np.sqrt(np.sum(np.asarray(dots[j]) ** 2)))\n",
    "        if i <= j:\n",
    "            a[i][j] = 0\n",
    "\n",
    "b = np.copy(a)\n",
    "\n",
    "clusterized = []\n",
    "xs = [0.6, 1.8, 2.7, 3.0, 3.0, 3.1, 3.8, 4.2]\n",
    "b_xs = []\n",
    "ys = [1.9, 1.6, 2.0, 2.1, 2.6, 4.5, 0.6, 2.7]\n",
    "b_ys = []\n",
    "\n",
    "print('Complete-link method:')\n",
    "print(a)\n",
    "while len(a) > 1:\n",
    "    i, j = np.where(a == np.amax(a))\n",
    "    i_b, j_b = np.where(b == np.amax(a))\n",
    "    i, j, i_b, j_b = i[0], j[0], i_b[0], j_b[0]\n",
    "\n",
    "    for t in range(len(a[i])):\n",
    "        a[i][t] = a[i][t] if a[i][t] > a[j][t] else a[j][t]\n",
    "    \n",
    "    a = np.delete(a, (j), axis = 1)\n",
    "    a = np.delete(a, (i), axis = 0)\n",
    "    \n",
    "\n",
    "    for t in range(len(a[0])):\n",
    "        a[t][t] = 0\n",
    "    print(a)\n",
    "    \n",
    "    if not i_b in clusterized:\n",
    "        b_xs.append(xs[i_b])\n",
    "        b_ys.append(ys[i_b])\n",
    "        clusterized.append(i_b)\n",
    "    if not j_b in clusterized:\n",
    "        b_xs.append(xs[j_b])\n",
    "        b_ys.append(ys[j_b])\n",
    "        clusterized.append(j_b)\n",
    "\n",
    "    plt.plot(xs, ys, 'ro', b_xs, b_ys, 'bo')\n",
    "    plt.axis([0, 5, 0, 5])\n",
    "    plt.show()\n"
   ]
  },
  {
   "cell_type": "code",
   "execution_count": null,
   "metadata": {
    "collapsed": true
   },
   "outputs": [],
   "source": []
  }
 ],
 "metadata": {
  "kernelspec": {
   "display_name": "Python 3",
   "language": "python",
   "name": "python3"
  },
  "language_info": {
   "codemirror_mode": {
    "name": "ipython",
    "version": 2
   },
   "file_extension": ".py",
   "mimetype": "text/x-python",
   "name": "python",
   "nbconvert_exporter": "python",
   "pygments_lexer": "ipython2",
   "version": "2.7.13"
  }
 },
 "nbformat": 4,
 "nbformat_minor": 2
}
