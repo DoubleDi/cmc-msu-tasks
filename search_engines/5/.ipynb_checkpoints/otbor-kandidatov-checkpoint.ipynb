{
 "cells": [
  {
   "cell_type": "markdown",
   "metadata": {},
   "source": [
    "# Дорожкин Денис 425 группа \n",
    "# Отчет"
   ]
  },
  {
   "cell_type": "markdown",
   "metadata": {},
   "source": [
    "Структура веткоров по ключевым словам: [отбор, кандидат, претендент, отобрать, выбрать]"
   ]
  },
  {
   "cell_type": "code",
   "execution_count": 4,
   "metadata": {
    "collapsed": true
   },
   "outputs": [],
   "source": [
    "import numpy as np\n",
    "np.set_printoptions(precision=10, suppress=True)"
   ]
  },
  {
   "cell_type": "code",
   "execution_count": 5,
   "metadata": {},
   "outputs": [
    {
     "name": "stdout",
     "output_type": "stream",
     "text": [
      "Запрос : [1, 1, 0, 0, 0]\n",
      "Документ 1 : [ 0.            0.4972754585  0.6588441188  0.5644834325  0.          ]\n",
      "Документ 2 : [ 0.5160277071  0.            0.6836891187  0.            0.5160277071]\n"
     ]
    }
   ],
   "source": [
    "# Входные данные\n",
    "q = [1, 1, 0, 0, 0] # Запрос отбор кандидатов\n",
    "total = 1000000 # Общее число документов\n",
    "\n",
    "# Нормализованная tf-idf релевантных документов\n",
    "# Кандидат отобрать претендент\n",
    "tf_d1 = [0, 1, 1, 1, 0]\n",
    "idf_d1 = [0, np.log10(total / 70000), np.log10(total / 30000), np.log10(total / 50000), 0]\n",
    "d1 = np.asarray(tf_d1) * idf_d1 / np.linalg.norm(np.asarray(tf_d1) * idf_d1)\n",
    "\n",
    "# Отбор выбрать претендент\n",
    "tf_d2 = [1, 0, 1, 0, 1]\n",
    "idf_d2 = [np.log10(total / 70000), 0, np.log10(total / 30000), 0, np.log10(total / 70000)]\n",
    "d2 = np.asarray(tf_d2) * idf_d2 / np.linalg.norm(np.asarray(tf_d2) * idf_d2)\n",
    "\n",
    "print \"Запрос :\", q\n",
    "print \"Документ 1 :\", d1\n",
    "print \"Документ 2 :\", d2"
   ]
  },
  {
   "cell_type": "code",
   "execution_count": 6,
   "metadata": {},
   "outputs": [
    {
     "name": "stdout",
     "output_type": "stream",
     "text": [
      "Старый вектор запроса : [1, 1, 0, 0, 0]\n",
      "Новый вектор запроса : [ 0.7774041561  0.7745913188  0.2013799856  0.0846725149  0.0774041561]\n"
     ]
    }
   ],
   "source": [
    "# Вычисление нового вектора запроса\n",
    "alpha = 0.7\n",
    "betta = 0.3\n",
    "\n",
    "_q = alpha * np.asarray(q) + betta * (d1 + d2) /  len([d1, d2])\n",
    "\n",
    "# Ответ\n",
    "print \"Старый вектор запроса :\", q\n",
    "print \"Новый вектор запроса :\", _q\n"
   ]
  }
 ],
 "metadata": {
  "kernelspec": {
   "display_name": "Python 2",
   "language": "python",
   "name": "python2"
  },
  "language_info": {
   "codemirror_mode": {
    "name": "ipython",
    "version": 2
   },
   "file_extension": ".py",
   "mimetype": "text/x-python",
   "name": "python",
   "nbconvert_exporter": "python",
   "pygments_lexer": "ipython2",
   "version": "2.7.13"
  }
 },
 "nbformat": 4,
 "nbformat_minor": 2
}
