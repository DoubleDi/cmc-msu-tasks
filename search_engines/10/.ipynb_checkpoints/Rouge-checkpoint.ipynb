{
 "cells": [
  {
   "cell_type": "markdown",
   "metadata": {},
   "source": [
    "# Дорожкин Денис 425 группа"
   ]
  },
  {
   "cell_type": "markdown",
   "metadata": {},
   "source": [
    "Найдем общие одинаковые пары слов для каждой системы и выделим их в \"\"."
   ]
  },
  {
   "cell_type": "markdown",
   "metadata": {},
   "source": [
    "Эксперт <br>\n",
    "\"Русгидро\", \"Росгеология\", \"Транснефть\" получат предложения перенести свои главные офисы \"на\" \"Дальний\" \"Восток\"\n",
    "\n",
    "Система 1 <br>\n",
    "Компаниям \"Русгидро\", \"Транснефть\" и \"Росгеология\" предложили подумать о переезде \"на\" \"Дальний\" \"Восток\" "
   ]
  },
  {
   "cell_type": "markdown",
   "metadata": {},
   "source": [
    "Эксперт <br>\n",
    "\"Русгидро\", \"Росгеология\", \"Транснефть\" получат предложения перенести свои главные офисы \"на\" \"Дальний\" \"Восток\"\n",
    "\n",
    "Система 2 <br>\n",
    "По словам вице-премьера по \"Дальнему\" \"Востоку\" переезд может как-то затронуть \"РусГидро\", \"Транснефть\" и \"Росгеологию\""
   ]
  },
  {
   "cell_type": "markdown",
   "metadata": {},
   "source": [
    "Для системы 1 <br>\n",
    "ROUGE-1 = 6 / 12\n",
    "\n",
    "Для системы 2 <br>\n",
    "ROUGE-1 = 5 / 12\n",
    "\n",
    "Система 1 работает лучше"
   ]
  }
 ],
 "metadata": {
  "kernelspec": {
   "display_name": "Python 3",
   "language": "python",
   "name": "python3"
  },
  "language_info": {
   "codemirror_mode": {
    "name": "ipython",
    "version": 2
   },
   "file_extension": ".py",
   "mimetype": "text/x-python",
   "name": "python",
   "nbconvert_exporter": "python",
   "pygments_lexer": "ipython2",
   "version": "2.7.13"
  }
 },
 "nbformat": 4,
 "nbformat_minor": 2
}
