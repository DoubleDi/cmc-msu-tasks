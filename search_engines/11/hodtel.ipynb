{
 "cells": [
  {
   "cell_type": "markdown",
   "metadata": {},
   "source": [
    "# Дорожкин Денис 425 группа"
   ]
  },
  {
   "cell_type": "code",
   "execution_count": 13,
   "metadata": {
    "collapsed": true
   },
   "outputs": [],
   "source": [
    "# -*- coding: utf-8 -*-\n",
    "\n",
    "# Условия\n",
    "ins_o_d = 9\n",
    "sub_d_s = 7\n",
    "\n",
    "p_hotel = 5\n",
    "p_hostel = 1\n",
    "\n",
    "cnt_o = 1.2\n",
    "cnt_s = 1\n",
    "\n",
    "start = 'hodtel'\n",
    "end1 = 'hotel'\n",
    "end2 = 'hostel'"
   ]
  },
  {
   "cell_type": "markdown",
   "metadata": {},
   "source": [
    "Без сглаживания"
   ]
  },
  {
   "cell_type": "code",
   "execution_count": 16,
   "metadata": {},
   "outputs": [
    {
     "name": "stdout",
     "output_type": "stream",
     "text": [
      "Substituted to hotel\n"
     ]
    }
   ],
   "source": [
    "# вычисление вероятностей \n",
    "p_start_end1 = float(ins_o_d) /  cnt_o\n",
    "p_end1 = p_start_end1 * p_hotel\n",
    "p_start_end2 = float(sub_d_s) /  cnt_s\n",
    "p_end2 = p_start_end2 * p_hostel\n",
    "\n",
    "if p_end1 > p_end2:\n",
    "    print \"Substituted to\", end1 \n",
    "else:\n",
    "    print \"Substituted to\", end2 "
   ]
  },
  {
   "cell_type": "markdown",
   "metadata": {},
   "source": [
    "Со сглаживанием Лапласа"
   ]
  },
  {
   "cell_type": "code",
   "execution_count": 17,
   "metadata": {},
   "outputs": [
    {
     "name": "stdout",
     "output_type": "stream",
     "text": [
      "Substituted to hotel\n"
     ]
    }
   ],
   "source": [
    "A = len('abcdefghijklmnopqrstuvwxyz') # длина алфавита\n",
    "\n",
    "# вычисление вероятностей \n",
    "p_start_end1 = float(ins_o_d + 1) /  (cnt_o + A)\n",
    "p_end1 = p_start_end1 * p_hotel\n",
    "p_start_end2 = float(sub_d_s + 1) /  (cnt_s + A)\n",
    "p_end2 = p_start_end2 * p_hostel\n",
    "\n",
    "if p_end1 > p_end2:\n",
    "    print \"Substituted to\", end1 \n",
    "else:\n",
    "    print \"Substituted to\", end2 "
   ]
  }
 ],
 "metadata": {
  "kernelspec": {
   "display_name": "Python 3",
   "language": "python",
   "name": "python3"
  },
  "language_info": {
   "codemirror_mode": {
    "name": "ipython",
    "version": 2
   },
   "file_extension": ".py",
   "mimetype": "text/x-python",
   "name": "python",
   "nbconvert_exporter": "python",
   "pygments_lexer": "ipython2",
   "version": "2.7.13"
  }
 },
 "nbformat": 4,
 "nbformat_minor": 2
}
